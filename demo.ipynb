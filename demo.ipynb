{
 "cells": [
  {
   "cell_type": "code",
   "execution_count": null,
   "id": "291b3e43-cbef-4037-b8b4-ec08384ea23f",
   "metadata": {},
   "outputs": [],
   "source": [
    "import os\n",
    "openai_key = os.environ[\"OPENAI_API_KEY\"]"
   ]
  },
  {
   "cell_type": "code",
   "execution_count": 2,
   "id": "d6df3afe-7d4b-4f29-9e2e-58acb1c9cff2",
   "metadata": {},
   "outputs": [],
   "source": [
    "from src.utils import ambiguity_check, decontextualize_ambiguity"
   ]
  },
  {
   "cell_type": "code",
   "execution_count": 7,
   "id": "29ec6a08-90bd-43c9-978b-14cbe1dc93cd",
   "metadata": {},
   "outputs": [
    {
     "name": "stdout",
     "output_type": "stream",
     "text": [
      "LLM GENERATION\n",
      "There are two individuals with the name Joseph Holmes in the search results. Joseph John Holmes was an Australian politician who served in both houses of the Parliament of Western Australia, 5. He was born in Mandurah, Western Australia, in 1866 and died in Perth in 1942, 5. Joseph R. Holmes, on the other hand, was a formerly enslaved African American shoemaker who became a farmer and politician in Charlotte County, Virginia, during the American Civil War. He aligned with the Radical Republicans and published various articles critical of the Virginia Conservative Party. He was elected to represent Charlotte and Halifax Counties in the Virginia Constitutional Convention of 1868 but was murdered outside the Charlotte County courthouse for his political activities.\n",
      "CLAIM\n",
      "He was murdered.\n",
      "DISAMBIGUATION {\"subject\": \"Joseph R. Holmes\", \"disambiguation_criteria\": \"Lifespan, Location, or Profession\"}\n"
     ]
    }
   ],
   "source": [
    "context = \"There are two individuals with the name Joseph Holmes in the search results. Joseph John Holmes was an Australian politician who served in both houses of the Parliament of Western Australia, 5. He was born in Mandurah, Western Australia, in 1866 and died in Perth in 1942, 5. Joseph R. Holmes, on the other hand, was a formerly enslaved African American shoemaker who became a farmer and politician in Charlotte County, Virginia, during the American Civil War. He aligned with the Radical Republicans and published various articles critical of the Virginia Conservative Party. He was elected to represent Charlotte and Halifax Counties in the Virginia Constitutional Convention of 1868 but was murdered outside the Charlotte County courthouse for his political activities.\"\n",
    "claim = \"He was murdered.\"\n",
    "decontext = \"Joseph R. Holmes was murdered.\"\n",
    "disambig_str, explanation_disambig, disambig_dict = ambiguity_check(decontext, openai_key=openai_key)\n",
    "print(f\"LLM GENERATION\\n{context}\")\n",
    "print(f\"CLAIM\\n{claim}\")\n",
    "print(\"DISAMBIGUATION\", disambig_str)\n"
   ]
  },
  {
   "cell_type": "code",
   "execution_count": 9,
   "id": "311bb0c7-caca-4355-a5da-e1c22563b867",
   "metadata": {},
   "outputs": [
    {
     "name": "stdout",
     "output_type": "stream",
     "text": [
      "Joseph R. Holmes, a politician in Charlotte County, Virginia, was murdered.\n"
     ]
    }
   ],
   "source": [
    "decontext_raw, explanation, disambig_decontext = decontextualize_ambiguity(claim, disambig_dict, context, openai_key=openai_key)\n",
    "print(disambig_decontext)"
   ]
  }
 ],
 "metadata": {
  "kernelspec": {
   "display_name": "Python 3 (ipykernel)",
   "language": "python",
   "name": "python3"
  },
  "language_info": {
   "codemirror_mode": {
    "name": "ipython",
    "version": 3
   },
   "file_extension": ".py",
   "mimetype": "text/x-python",
   "name": "python",
   "nbconvert_exporter": "python",
   "pygments_lexer": "ipython3",
   "version": "3.8.0"
  }
 },
 "nbformat": 4,
 "nbformat_minor": 5
}
